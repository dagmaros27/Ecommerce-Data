{
 "cells": [
  {
   "cell_type": "code",
   "execution_count": null,
   "id": "097cb888",
   "metadata": {},
   "outputs": [],
   "source": [
    "from transformers import AutoTokenizer, AutoModelForTokenClassification\n",
    "\n",
    "from google.colab import drive\n",
    "drive.mount('/content/drive')\n",
    "\n",
    "model_path = \"/content/drive/MyDrive/Models\"\n",
    "\n",
    "tokenizer = AutoTokenizer.from_pretrained(model_path)\n",
    "model = AutoModelForTokenClassification.from_pretrained(model_path)\n",
    "\n"
   ]
  },
  {
   "cell_type": "code",
   "execution_count": null,
   "id": "e3145af9",
   "metadata": {},
   "outputs": [],
   "source": [
    "# Evaluate using your existing Trainer\n",
    "trainer.model = model\n",
    "trainer.tokenizer = tokenizer\n",
    "eval_results = trainer.evaluate()\n",
    "\n",
    "# Get full classification report\n",
    "preds, labels, _ = trainer.predict(tokenized_dataset[\"test\"])\n",
    "preds = preds.argmax(-1)\n",
    "\n",
    "true_labels = [[id2label[l] for l in label if l != -100] for label in labels]\n",
    "true_preds = [[id2label[p] for (p, l) in zip(pred, label) if l != -100] for pred, label in zip(preds, labels)]\n",
    "\n",
    "from seqeval.metrics import classification_report\n",
    "print(classification_report(true_labels, true_preds))"
   ]
  }
 ],
 "metadata": {
  "language_info": {
   "name": "python"
  }
 },
 "nbformat": 4,
 "nbformat_minor": 5
}
