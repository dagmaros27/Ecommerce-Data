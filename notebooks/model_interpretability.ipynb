{
 "cells": [
  {
   "cell_type": "code",
   "execution_count": null,
   "id": "2c9079de",
   "metadata": {},
   "outputs": [],
   "source": [
    "import shap\n",
    "import torch\n",
    "import numpy as np\n",
    "from transformers import AutoTokenizer, AutoModelForTokenClassification\n",
    "import torch.nn.functional as F"
   ]
  },
  {
   "cell_type": "code",
   "execution_count": null,
   "id": "16712489",
   "metadata": {},
   "outputs": [],
   "source": [
    "# Load model and tokenizer\n",
    "model_name = \"mbeukman/xlm-roberta-base-finetuned-ner-swahili\"\n",
    "tokenizer = AutoTokenizer.from_pretrained(model_name)\n",
    "model = AutoModelForTokenClassification.from_pretrained(model_name)\n",
    "model.eval()"
   ]
  },
  {
   "cell_type": "code",
   "execution_count": null,
   "id": "057e1ed8",
   "metadata": {},
   "outputs": [],
   "source": [
    "# Wrapper for SHAP\n",
    "def shap_ner_wrapper(texts):\n",
    "    all_probs = []\n",
    "    for text in texts:\n",
    "        inputs = tokenizer(text, return_tensors=\"pt\", truncation=True, padding=True)\n",
    "        with torch.no_grad():\n",
    "            outputs = model(**inputs)\n",
    "            logits = outputs.logits.squeeze(0)  # [seq_len, num_labels]\n",
    "            probs = F.softmax(logits, dim=-1)  # [seq_len, num_labels]\n",
    "            # For SHAP, simplify: Take max prob per token (as a proxy)\n",
    "            token_probs = torch.max(probs, dim=-1).values.numpy()\n",
    "        all_probs.append(token_probs)\n",
    "    return np.array(all_probs)"
   ]
  },
  {
   "cell_type": "code",
   "execution_count": null,
   "id": "84c09ebf",
   "metadata": {},
   "outputs": [],
   "source": [
    "# Use SHAP's TextExplainer\n",
    "explainer = shap.Explainer(shap_ner_wrapper, tokenizer)\n",
    "\n",
    "# Example text\n",
    "sample_text = \"በ8420 ብር የተሰራ የእጄታ ወንበር ይዘዙ Call 8420 for order.\"\n",
    "shap_values = explainer([sample_text])\n",
    "\n",
    "# Initialize JavaScript visualization (important for Colab)\n",
    "shap.initjs()\n",
    "\n",
    "# Display SHAP text explanation\n",
    "shap.plots.text(shap_values[0])"
   ]
  },
  {
   "cell_type": "code",
   "execution_count": null,
   "id": "9ba5a476",
   "metadata": {},
   "outputs": [],
   "source": []
  }
 ],
 "metadata": {
  "kernelspec": {
   "display_name": "envX",
   "language": "python",
   "name": "python3"
  },
  "language_info": {
   "codemirror_mode": {
    "name": "ipython",
    "version": 3
   },
   "file_extension": ".py",
   "mimetype": "text/x-python",
   "name": "python",
   "nbconvert_exporter": "python",
   "pygments_lexer": "ipython3",
   "version": "3.10.13"
  }
 },
 "nbformat": 4,
 "nbformat_minor": 5
}
